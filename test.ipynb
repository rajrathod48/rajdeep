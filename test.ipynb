{
 "cells": [
  {
   "cell_type": "code",
   "execution_count": 45,
   "metadata": {},
   "outputs": [
    {
     "name": "stdout",
     "output_type": "stream",
     "text": [
      "7\n"
     ]
    }
   ],
   "source": [
    "# Integer addition\n",
    "a = 3\n",
    "b = 4\n",
    "print(a + b)"
   ]
  },
  {
   "cell_type": "code",
   "execution_count": 46,
   "metadata": {},
   "outputs": [
    {
     "name": "stdout",
     "output_type": "stream",
     "text": [
      "5.333333333333333 Hours\n",
      "5 Hours\n"
     ]
    }
   ],
   "source": [
    "# Integer division\n",
    "a = 320\n",
    "b = 60\n",
    "print(a/b, \"Hours\")\n",
    "print(a//b, \"Hours\")"
   ]
  },
  {
   "cell_type": "code",
   "execution_count": 47,
   "metadata": {},
   "outputs": [
    {
     "name": "stdout",
     "output_type": "stream",
     "text": [
      "7.0\n"
     ]
    }
   ],
   "source": [
    "# Integer and float addtion\n",
    "a = 3\n",
    "b = 4.0\n",
    "print(a+b)"
   ]
  },
  {
   "cell_type": "code",
   "execution_count": 48,
   "metadata": {},
   "outputs": [
    {
     "name": "stdout",
     "output_type": "stream",
     "text": [
      "ab\n"
     ]
    }
   ],
   "source": [
    "# Character Addition\n",
    "a = 'a'\n",
    "b = 'b'\n",
    "print(a+b)"
   ]
  },
  {
   "cell_type": "code",
   "execution_count": 2,
   "metadata": {},
   "outputs": [
    {
     "name": "stdout",
     "output_type": "stream",
     "text": [
      "aaa\n"
     ]
    }
   ],
   "source": [
    "# Character and integer multiplication\n",
    "a = 'a'\n",
    "b = 3\n",
    "print(a*b)"
   ]
  },
  {
   "cell_type": "code",
   "execution_count": 3,
   "metadata": {},
   "outputs": [
    {
     "ename": "TypeError",
     "evalue": "unsupported operand type(s) for /: 'str' and 'int'",
     "output_type": "error",
     "traceback": [
      "\u001b[1;31m---------------------------------------------------------------------------\u001b[0m",
      "\u001b[1;31mTypeError\u001b[0m                                 Traceback (most recent call last)",
      "Cell \u001b[1;32mIn[3], line 4\u001b[0m\n\u001b[0;32m      2\u001b[0m a \u001b[38;5;241m=\u001b[39m \u001b[38;5;124m'\u001b[39m\u001b[38;5;124maaa\u001b[39m\u001b[38;5;124m'\u001b[39m\n\u001b[0;32m      3\u001b[0m b \u001b[38;5;241m=\u001b[39m \u001b[38;5;241m3\u001b[39m\n\u001b[1;32m----> 4\u001b[0m \u001b[38;5;28mprint\u001b[39m(\u001b[43ma\u001b[49m\u001b[38;5;241;43m/\u001b[39;49m\u001b[43mb\u001b[49m)\n",
      "\u001b[1;31mTypeError\u001b[0m: unsupported operand type(s) for /: 'str' and 'int'"
     ]
    }
   ],
   "source": [
    "# Character and float divison\n",
    "a = 'aaa'\n",
    "b = 3\n",
    "print(a/b)"
   ]
  },
  {
   "cell_type": "code",
   "execution_count": 4,
   "metadata": {},
   "outputs": [
    {
     "name": "stdout",
     "output_type": "stream",
     "text": [
      "[1, 2, 1, 2, 1, 2]\n"
     ]
    }
   ],
   "source": [
    "# List and integer muliplcation\n",
    "a = [1,2]\n",
    "b = 3\n",
    "print(a*b)"
   ]
  },
  {
   "cell_type": "code",
   "execution_count": 9,
   "metadata": {},
   "outputs": [
    {
     "data": {
      "text/plain": [
       "3"
      ]
     },
     "execution_count": 9,
     "metadata": {},
     "output_type": "execute_result"
    }
   ],
   "source": [
    "b"
   ]
  },
  {
   "cell_type": "code",
   "execution_count": 10,
   "metadata": {},
   "outputs": [],
   "source": [
    "a[1] = 3"
   ]
  },
  {
   "cell_type": "code",
   "execution_count": 11,
   "metadata": {},
   "outputs": [
    {
     "data": {
      "text/plain": [
       "[1, 3]"
      ]
     },
     "execution_count": 11,
     "metadata": {},
     "output_type": "execute_result"
    }
   ],
   "source": [
    "a"
   ]
  },
  {
   "cell_type": "code",
   "execution_count": 12,
   "metadata": {},
   "outputs": [
    {
     "name": "stdout",
     "output_type": "stream",
     "text": [
      "(1, 2, 1, 2, 1, 2)\n"
     ]
    }
   ],
   "source": [
    "# tuple and integer muliplcation\n",
    "a = (1,2)\n",
    "b = 3\n",
    "print(a*b)"
   ]
  },
  {
   "cell_type": "code",
   "execution_count": 13,
   "metadata": {},
   "outputs": [
    {
     "data": {
      "text/plain": [
       "(1, 2)"
      ]
     },
     "execution_count": 13,
     "metadata": {},
     "output_type": "execute_result"
    }
   ],
   "source": [
    "a"
   ]
  },
  {
   "cell_type": "code",
   "execution_count": 15,
   "metadata": {},
   "outputs": [
    {
     "data": {
      "text/plain": [
       "2"
      ]
     },
     "execution_count": 15,
     "metadata": {},
     "output_type": "execute_result"
    }
   ],
   "source": [
    "a[1] "
   ]
  },
  {
   "cell_type": "code",
   "execution_count": 17,
   "metadata": {},
   "outputs": [
    {
     "data": {
      "text/plain": [
       "3"
      ]
     },
     "execution_count": 17,
     "metadata": {},
     "output_type": "execute_result"
    }
   ],
   "source": [
    "b"
   ]
  },
  {
   "cell_type": "code",
   "execution_count": 19,
   "metadata": {},
   "outputs": [
    {
     "ename": "TypeError",
     "evalue": "unsupported operand type(s) for *: 'set' and 'int'",
     "output_type": "error",
     "traceback": [
      "\u001b[1;31m---------------------------------------------------------------------------\u001b[0m",
      "\u001b[1;31mTypeError\u001b[0m                                 Traceback (most recent call last)",
      "Cell \u001b[1;32mIn[19], line 4\u001b[0m\n\u001b[0;32m      2\u001b[0m a \u001b[38;5;241m=\u001b[39m {\u001b[38;5;241m1\u001b[39m,\u001b[38;5;241m2\u001b[39m,\u001b[38;5;241m1\u001b[39m,\u001b[38;5;241m2\u001b[39m}\n\u001b[0;32m      3\u001b[0m b \u001b[38;5;241m=\u001b[39m \u001b[38;5;241m3\u001b[39m\n\u001b[1;32m----> 4\u001b[0m \u001b[38;5;28mprint\u001b[39m(\u001b[43ma\u001b[49m\u001b[38;5;241;43m*\u001b[39;49m\u001b[43mb\u001b[49m)\n",
      "\u001b[1;31mTypeError\u001b[0m: unsupported operand type(s) for *: 'set' and 'int'"
     ]
    }
   ],
   "source": [
    "# set and integer muliplcation\n",
    "a = {1,2,1,2}\n",
    "b = 3\n",
    "print(a*b)"
   ]
  },
  {
   "cell_type": "code",
   "execution_count": 53,
   "metadata": {},
   "outputs": [
    {
     "ename": "TypeError",
     "evalue": "unsupported operand type(s) for *: 'dict' and 'int'",
     "output_type": "error",
     "traceback": [
      "\u001b[1;31m---------------------------------------------------------------------------\u001b[0m",
      "\u001b[1;31mTypeError\u001b[0m                                 Traceback (most recent call last)",
      "Cell \u001b[1;32mIn[53], line 4\u001b[0m\n\u001b[0;32m      2\u001b[0m a \u001b[38;5;241m=\u001b[39m {\u001b[38;5;124m'\u001b[39m\u001b[38;5;124ma\u001b[39m\u001b[38;5;124m'\u001b[39m:\u001b[38;5;241m1\u001b[39m,\u001b[38;5;124m'\u001b[39m\u001b[38;5;124mb\u001b[39m\u001b[38;5;124m'\u001b[39m:\u001b[38;5;241m2\u001b[39m}\n\u001b[0;32m      3\u001b[0m b \u001b[38;5;241m=\u001b[39m \u001b[38;5;241m3\u001b[39m\n\u001b[1;32m----> 4\u001b[0m \u001b[38;5;28mprint\u001b[39m(\u001b[43ma\u001b[49m\u001b[38;5;241;43m*\u001b[39;49m\u001b[43mb\u001b[49m)\n",
      "\u001b[1;31mTypeError\u001b[0m: unsupported operand type(s) for *: 'dict' and 'int'"
     ]
    }
   ],
   "source": [
    "# dictionary and integer muliplcation\n",
    "a = {'a':1,'b':2}\n",
    "b = 3\n",
    "print(a*b)"
   ]
  },
  {
   "cell_type": "code",
   "execution_count": 23,
   "metadata": {},
   "outputs": [
    {
     "name": "stdout",
     "output_type": "stream",
     "text": [
      "33.2\n"
     ]
    }
   ],
   "source": [
    "print(3+4*8-9/5)"
   ]
  },
  {
   "cell_type": "markdown",
   "metadata": {},
   "source": [
    "# Tic Tac Toe"
   ]
  },
  {
   "cell_type": "code",
   "execution_count": 7,
   "metadata": {},
   "outputs": [],
   "source": [
    "# Play Field\n",
    "\n",
    "play_field = [['', '', ''], ['', '', ''], ['', '', '']]"
   ]
  },
  {
   "cell_type": "code",
   "execution_count": 30,
   "metadata": {},
   "outputs": [],
   "source": [
    "play_field[2][2] = 'X'"
   ]
  },
  {
   "cell_type": "code",
   "execution_count": 28,
   "metadata": {},
   "outputs": [],
   "source": [
    "play_field[1][0] = 'O'\n"
   ]
  },
  {
   "cell_type": "code",
   "execution_count": 31,
   "metadata": {},
   "outputs": [
    {
     "name": "stdout",
     "output_type": "stream",
     "text": [
      "['X', 'O', 'O']\n",
      "['O', 'O', 'X']\n",
      "['X', 'X', 'X']\n"
     ]
    }
   ],
   "source": [
    "print(play_field[0])\n",
    "print(play_field[1])\n",
    "print(play_field[2])"
   ]
  },
  {
   "cell_type": "code",
   "execution_count": 44,
   "metadata": {},
   "outputs": [
    {
     "name": "stdout",
     "output_type": "stream",
     "text": [
      "Default\n"
     ]
    }
   ],
   "source": [
    "if (1 >= 2): \n",
    "    print(\"Worked\")\n",
    "elif (1 == 2):\n",
    "    print('2nd if')\n",
    "else:\n",
    "    print(\"Default\")"
   ]
  },
  {
   "cell_type": "code",
   "execution_count": 28,
   "metadata": {},
   "outputs": [
    {
     "data": {
      "text/plain": [
       "False"
      ]
     },
     "execution_count": 28,
     "metadata": {},
     "output_type": "execute_result"
    }
   ],
   "source": [
    "\n"
   ]
  },
  {
   "cell_type": "markdown",
   "metadata": {},
   "source": [
    "# Inventory"
   ]
  },
  {
   "cell_type": "code",
   "execution_count": 65,
   "metadata": {},
   "outputs": [],
   "source": [
    "# {Name: [Price, Quanities, units],}\n",
    "\n",
    "inventory = {\n",
    "    \"Potato\": [10, 2, 'kg'],\n",
    "    \"Onion\": [20, 1000, 'g']\n",
    "} "
   ]
  },
  {
   "cell_type": "code",
   "execution_count": null,
   "metadata": {},
   "outputs": [],
   "source": [
    "hw_inventory = {\n",
    "    \"Potato\": {\"price\": 10, \"Qty\": 2, \"Unit\": 'kg'},\n",
    "    \"Onion\": {\"price\": 20, \"Qty\": 3000, \"Unit\": 'g'}\n",
    "} \n",
    "\n",
    "hw_menu = {\n",
    "    \"Pizza\": {\n",
    "            \"ingredients\": (\"Tomato\", \"Onion\"),\n",
    "            \"quantities\": (300, 2),\n",
    "            \"units\": (\"g\", \"kg\")\n",
    "        },\n",
    "    \"Burger\": {\n",
    "            \"ingredients\": (\"Lettuce\", \"Onion\"),\n",
    "            \"quantities\": (300, 2),\n",
    "            \"units\": (\"g\", \"kg\")\n",
    "        },\n",
    "    \"Pani puri\":{\n",
    "            \"ingredients\": (\"Potato\", \"Rawa\"),\n",
    "            \"quantities\": (300, 2),\n",
    "            \"units\": (\"g\", \"kg\")\n",
    "        },\n",
    "    }"
   ]
  },
  {
   "cell_type": "code",
   "execution_count": 70,
   "metadata": {},
   "outputs": [
    {
     "name": "stdout",
     "output_type": "stream",
     "text": [
      "Not doa ble\n"
     ]
    }
   ],
   "source": [
    "menu_item = \"Pizza\"\n",
    "ingredient_num = 1\n",
    "if menu[menu_item][ingredient_num]['ingredient_name'] in inventory:\n",
    "    quantity_needed = menu[menu_item][ingredient_num]['quantity']\n",
    "    if menu[menu_item][ingredient_num]['unit'] == 'kg':\n",
    "        quantity_needed *= 1000\n",
    "        # quantity_needed = quantity_needed * 1000\n",
    "    quantity_available = inventory[menu[menu_item][ingredient_num]['ingredient_name']][1]\n",
    "    if inventory[menu[menu_item][ingredient_num]['ingredient_name']][2] == 'kg':\n",
    "        quantity_available *= 1000\n",
    "    if quantity_needed <= quantity_available:\n",
    "        print(menu[menu_item][ingredient_num])\n",
    "    else:\n",
    "        print(\"Not doa ble\")\n",
    "else:\n",
    "    print(\"Not doable\")"
   ]
  },
  {
   "cell_type": "code",
   "execution_count": 85,
   "metadata": {},
   "outputs": [
    {
     "name": "stdout",
     "output_type": "stream",
     "text": [
      "Not \n"
     ]
    }
   ],
   "source": [
    "# Is this menu item doable?\n",
    "## If menu item is available in inventory\n",
    "menu_item_name = \"Pizza\"\n",
    "ingredient_num = 0\n",
    "if menu[\"Pizza\"][0]['ingredient_name'] in inventory:\n",
    "    qty_avail = inventory[menu[\"Pizza\"][0]['ingredient_name']][1]\n",
    "    if inventory[menu[\"Pizza\"][0]['ingredient_name']][2] == \"kg\":\n",
    "        qty_avail *= 1000\n",
    "        \n",
    "    qty_need = menu[\"Pizza\"][0]['quantity']\n",
    "    if menu[\"Pizza\"][0]['unit'] == \"kg\":\n",
    "        qty_need *= 1000\n",
    "\n",
    "    if qty_need <= qty_avail:\n",
    "        print(\"Yes\") \n",
    "    else:\n",
    "        print(\"No\")\n",
    "else:\n",
    "    print(\"Not \")\n",
    "# {Name: [Price, Quanities, units],}\n"
   ]
  },
  {
   "cell_type": "code",
   "execution_count": 45,
   "metadata": {},
   "outputs": [],
   "source": [
    "# Menu\n",
    "\n",
    "menu = {\n",
    "    \"Pizza\": (\n",
    "        {\n",
    "            \"ingredient_name\": \"Tomato\",\n",
    "            \"quantity\":300,\n",
    "            \"unit\": \"g\"\n",
    "            },\n",
    "        {\n",
    "            \"ingredient_name\": \"Onion\",\n",
    "            \"quantity\":2,\n",
    "            \"unit\": \"kg\"\n",
    "            }\n",
    "        ),\n",
    "    \"Burger\": (\n",
    "        {\n",
    "            \"ingredient_name\": \"Onion\",\n",
    "            \"quantity\":300,\n",
    "            \"unit\": \"g\"\n",
    "            },\n",
    "        {\n",
    "            \"ingredient_name\": \"Potato\",\n",
    "            \"quantity\":1,\n",
    "            \"unit\": \"kg\"\n",
    "            }\n",
    "        ),\n",
    "    \"Pani puri\": (\n",
    "        {\n",
    "            \"ingredient_name\": \"Tomato\",\n",
    "            \"quantity\":300,\n",
    "            \"unit\": \"g\"\n",
    "            },\n",
    "        {\n",
    "            \"ingredient_name\": \"Rava\",\n",
    "            \"quantity\":400,\n",
    "            \"unit\": \"g\"\n",
    "            }\n",
    "        ),\n",
    "    }"
   ]
  },
  {
   "cell_type": "code",
   "execution_count": null,
   "metadata": {},
   "outputs": [],
   "source": [
    "if "
   ]
  }
 ],
 "metadata": {
  "kernelspec": {
   "display_name": "Python 3",
   "language": "python",
   "name": "python3"
  },
  "language_info": {
   "codemirror_mode": {
    "name": "ipython",
    "version": 3
   },
   "file_extension": ".py",
   "mimetype": "text/x-python",
   "name": "python",
   "nbconvert_exporter": "python",
   "pygments_lexer": "ipython3",
   "version": "3.10.10"
  }
 },
 "nbformat": 4,
 "nbformat_minor": 2
}
